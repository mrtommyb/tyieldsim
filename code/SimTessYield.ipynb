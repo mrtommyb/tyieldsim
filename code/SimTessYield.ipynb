{
 "cells": [
  {
   "cell_type": "markdown",
   "metadata": {},
   "source": [
    "# Simulate exoplanet yield from TESS"
   ]
  },
  {
   "cell_type": "markdown",
   "metadata": {},
   "source": [
    "The purpose of this code is to simulate the exoplanet yield from the TESS Mission. We do this by taking the various fields that TESS observes and, using a galaxy model, put planets orbiting the stars and see whether we can detect that planet."
   ]
  },
  {
   "cell_type": "code",
   "execution_count": 1,
   "metadata": {
    "collapsed": true
   },
   "outputs": [],
   "source": [
    "from __future__ import division, print_function\n",
    "import numpy as np\n",
    "import pandas as pd\n",
    "import astroquery\n",
    "import matplotlib.pyplot as plt\n",
    "import glob\n",
    "\n",
    "%matplotlib inline\n",
    "\n",
    "msun = 1.9891E30\n",
    "rsun = 695500000.\n",
    "G = 6.67384E-11\n",
    "AU = 149597870700.\n"
   ]
  },
  {
   "cell_type": "markdown",
   "metadata": {},
   "source": [
    "lets read our galaxt model files"
   ]
  },
  {
   "cell_type": "code",
   "execution_count": 2,
   "metadata": {
    "collapsed": false
   },
   "outputs": [],
   "source": [
    "import matplotlib\n",
    "matplotlib.style.use('ggplot')\n",
    "\n",
    "names = ['Dist','Mv','CL','Typ','LTef','logg','Age',\n",
    "         'Mass','BV','UB','VI','VK','V','FeH',\n",
    "         'l','b','Av','Mbol']\n",
    "\n",
    "galmodfiles = glob.glob('../data/besmod*.csv')\n",
    "\n",
    "thisGalmodidx = 0\n",
    "\n",
    "galmodarea = np.genfromtxt('bess_reas.txt',usecols=2)[thisGalmodidx]\n",
    "\n",
    "intial_q = pd.read_csv(galmodfiles[thisGalmodidx], skiprows=2, names=names)\n"
   ]
  },
  {
   "cell_type": "code",
   "execution_count": 3,
   "metadata": {
    "collapsed": false
   },
   "outputs": [],
   "source": [
    "intial_q['isMdwarf'] = pd.Series((intial_q.CL == 5) & (intial_q.Typ >= 7.), name='isMdwarf' )\n",
    "intial_q['I'] = pd.Series(-1. * (intial_q.VI - intial_q.V), name='I')\n",
    "intial_q['Teff'] = pd.Series(10**intial_q.LTef , name='Teff')\n",
    "\n",
    "g = 10**intial_q.logg * 0.01\n",
    "intial_q['Radius'] = pd.Series(np.sqrt(G*intial_q.Mass*msun / g) / rsun, name='Radius')"
   ]
  },
  {
   "cell_type": "markdown",
   "metadata": {},
   "source": [
    "we previously got the besancon models, they are in the directory ../data/\n",
    "We also saved the areas for each field in bess_reas.txt"
   ]
  },
  {
   "cell_type": "markdown",
   "metadata": {},
   "source": [
    "We are doing this in a monte carlo fashion. Our outer loop is each field. The row closest to the equator is easiest because there is no overlap.\n",
    "We saved a few functions in occSimFuncs.py"
   ]
  },
  {
   "cell_type": "code",
   "execution_count": 10,
   "metadata": {
    "collapsed": false
   },
   "outputs": [],
   "source": [
    "from occSimFuncs import (Fressin_select, Dressing_select, per2ars, \n",
    "                         get_duration, TESS_noise_1h, nearly_equal, get_transit_depth)\n",
    "\n",
    "\n",
    "consts =  {'obslen': 75, #days\n",
    "            'sigma_threshold': 10.,\n",
    "           'simsize': 8, #size of the galmod field in sq deg\n",
    "            'full_fov': True, # if true do whole 24x24deg ccd\n",
    "          }\n",
    "\n",
    "#make the catalog equal to the full fov area\n",
    "if consts['full_fov'] & (consts['simsize'] < galmodarea):\n",
    "    multiple = galmodarea / consts['simsize']\n",
    "    numstars = int(intial_q.shape[0] * multiple)\n",
    "    rows = np.random.choice(intial_q.index.values, size=numstars)\n",
    "    newq = intial_q.ix[rows]\n",
    "    \n",
    "    q = newq.set_index(np.arange(newq.shape[0]))\n",
    "    \n",
    "elif (simsize > galmodarea):\n",
    "    raise('Galmod area is too small!')\n",
    "\n",
    "else:\n",
    "    q = intial_q\n",
    "\n",
    "\n",
    "\n",
    "#some planet parameters we will need later\n",
    "q['cosi'] = pd.Series(np.random.random(size=q.shape[0]),name='cosi')\n",
    "\n",
    "q['noise_level'] = TESS_noise_1h(q.I)\n",
    "\n",
    "#reload(occSimFuncs)"
   ]
  },
  {
   "cell_type": "code",
   "execution_count": null,
   "metadata": {
    "collapsed": false
   },
   "outputs": [],
   "source": []
  },
  {
   "cell_type": "markdown",
   "metadata": {},
   "source": [
    "draw a bunch of planest and accociate them with each star"
   ]
  },
  {
   "cell_type": "code",
   "execution_count": 16,
   "metadata": {
    "collapsed": false
   },
   "outputs": [],
   "source": [
    "#draw a bunch of planets, we will run Dressing for cool stars and Fressin for more massive\n",
    "mstar_planets = Dressing_select(numstars)\n",
    "ms_planets = Fressin_select(numstars)\n",
    "\n",
    "q['planetRadius'] = pd.Series(np.where(q.isMdwarf,mstar_planets[0],ms_planets[0]), name='planetRadius')\n",
    "q['planetPeriod'] = pd.Series(np.where(q.isMdwarf,mstar_planets[1],ms_planets[1]), name='planetPeriod')\n",
    "\n",
    "\n",
    "# for i, thisStar in enumerate(q.isMdwarf):\n",
    "#     if thisStar == True:\n",
    "#         q.loc[i,'planetRadius'], q.loc[i,'planetPeriod'] = Dressing_select()\n",
    "#     else:\n",
    "#         q.loc[i,'planetRadius'], q.loc[i,'planetPeriod'] = Fressin_select()\n",
    "\n",
    "q['Ntransits'] = np.floor(consts['obslen'] / q.planetPeriod)\n",
    "q['ars'] = per2ars(q.planetPeriod,q.Mass,q.Radius)\n",
    "q['duration'] = get_duration(q.planetPeriod,q.ars,b=q.impact)\n",
    "q['duration_correction'] = np.sqrt(q.duration) # correction for CDPP because transit dur != 1 hour\n",
    "q['transit_depth']  = get_transit_depth(q.planetRadius,q.Radius)"
   ]
  },
  {
   "cell_type": "markdown",
   "metadata": {},
   "source": [
    "now lets see if those planets are detected"
   ]
  },
  {
   "cell_type": "code",
   "execution_count": 17,
   "metadata": {
    "collapsed": false
   },
   "outputs": [],
   "source": [
    "q['needed_for_detection'] = (q.transit_depth * q.duration_correction *\n",
    "            np.sqrt(q.Ntransits)) / consts['sigma_threshold']\n",
    "q['has_planets']  = q.planetRadius > 0.0"
   ]
  },
  {
   "cell_type": "code",
   "execution_count": 19,
   "metadata": {
    "collapsed": false
   },
   "outputs": [],
   "source": [
    "q['detected'] = (q.noise_level < q.needed_for_detection) & (q.Ntransits > 1) & (q.planetRadius > 0.0) & q.has_planets"
   ]
  },
  {
   "cell_type": "code",
   "execution_count": 20,
   "metadata": {
    "collapsed": false
   },
   "outputs": [
    {
     "name": "stdout",
     "output_type": "stream",
     "text": [
      "total planets = 37.0262490916\n"
     ]
    }
   ],
   "source": [
    "total_planets = (q.ars**-1)[q.detected]\n",
    "print('total planets = {}'.format(np.sum(total_planets)))"
   ]
  },
  {
   "cell_type": "code",
   "execution_count": null,
   "metadata": {
    "collapsed": false
   },
   "outputs": [],
   "source": []
  },
  {
   "cell_type": "code",
   "execution_count": null,
   "metadata": {
    "collapsed": false
   },
   "outputs": [],
   "source": []
  },
  {
   "cell_type": "code",
   "execution_count": null,
   "metadata": {
    "collapsed": true
   },
   "outputs": [],
   "source": []
  }
 ],
 "metadata": {
  "kernelspec": {
   "display_name": "Python 2",
   "language": "python",
   "name": "python2"
  },
  "language_info": {
   "codemirror_mode": {
    "name": "ipython",
    "version": 2
   },
   "file_extension": ".py",
   "mimetype": "text/x-python",
   "name": "python",
   "nbconvert_exporter": "python",
   "pygments_lexer": "ipython2",
   "version": "2.7.11"
  }
 },
 "nbformat": 4,
 "nbformat_minor": 0
}
