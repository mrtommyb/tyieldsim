{
 "cells": [
  {
   "cell_type": "code",
   "execution_count": 2,
   "metadata": {
    "collapsed": false
   },
   "outputs": [],
   "source": [
    "from __future__ import division, print_function"
   ]
  },
  {
   "cell_type": "code",
   "execution_count": 130,
   "metadata": {
    "collapsed": true
   },
   "outputs": [],
   "source": [
    "import numpy as np\n",
    "import pandas as pd\n",
    "import astroquery\n",
    "import matplotlib.pyplot as plt\n",
    "import glob\n",
    "\n",
    "import matplotlib\n",
    "\n",
    "%matplotlib inline"
   ]
  },
  {
   "cell_type": "code",
   "execution_count": 131,
   "metadata": {
    "collapsed": false
   },
   "outputs": [],
   "source": [
    "fns = glob.glob('/Users/tom/Dropbox/TIC4/CTL/*.csv')\n",
    "\n",
    "header = [\n",
    "    'RA','DEC','TESSMAG','TEFF','PRIORITY','RADIUS','MASS','CONTRATIO',\n",
    "    'ECLONG','ECLAT','GLONG','GLAT','PLX','V','J','H','Ks','HIP','TYCHO2',\n",
    "    '2MASS','TICID','CDWARF','PRIO_NON_CON','TEFF_SRC','RAD_SRC','MASS_SRC'\n",
    "    ]\n"
   ]
  },
  {
   "cell_type": "code",
   "execution_count": 132,
   "metadata": {
    "collapsed": false,
    "scrolled": true
   },
   "outputs": [
    {
     "name": "stdout",
     "output_type": "stream",
     "text": [
      "0.00711750080922\n",
      "0.00765143330282\n",
      "0.00683916628325\n",
      "0.00571572081392\n",
      "0.00463359697578\n",
      "0.0057790754149\n",
      "0.00587551323589\n",
      "0.00519270151783\n",
      "0.00577585002683\n",
      "0.00541358617543\n",
      "0.00438532556096\n",
      "0.00649876202036\n"
     ]
    }
   ],
   "source": [
    "# give me the 100000th highest ranked target in each file\n",
    "# the lowest value will be our minimum priority\n",
    "minpriority = 1.0\n",
    "for fn in fns:\n",
    "    df = pd.read_csv(fn, names=header)\n",
    "    print(df.sort_values('PRIORITY').iloc[-100000].PRIORITY)\n",
    "    if df.sort_values('PRIORITY').iloc[-100000].PRIORITY < minpriority:\n",
    "        minpriority = df.sort_values('PRIORITY').iloc[-100000].PRIORITY"
   ]
  },
  {
   "cell_type": "code",
   "execution_count": 223,
   "metadata": {
    "collapsed": false
   },
   "outputs": [
    {
     "name": "stdout",
     "output_type": "stream",
     "text": [
      "done/Users/tom/Dropbox/TIC4/CTL/00-02.csv\n",
      "done/Users/tom/Dropbox/TIC4/CTL/02-04.csv\n",
      "done/Users/tom/Dropbox/TIC4/CTL/04-06.csv\n",
      "done/Users/tom/Dropbox/TIC4/CTL/06-08.csv\n",
      "done/Users/tom/Dropbox/TIC4/CTL/08-10.csv\n",
      "done/Users/tom/Dropbox/TIC4/CTL/10-12.csv\n",
      "done/Users/tom/Dropbox/TIC4/CTL/12-14.csv\n",
      "done/Users/tom/Dropbox/TIC4/CTL/14-16.csv\n",
      "done/Users/tom/Dropbox/TIC4/CTL/16-18.csv\n",
      "done/Users/tom/Dropbox/TIC4/CTL/18-20.csv\n",
      "done/Users/tom/Dropbox/TIC4/CTL/20-22.csv\n",
      "done/Users/tom/Dropbox/TIC4/CTL/22-24.csv\n"
     ]
    }
   ],
   "source": [
    "cutvalue = minpriority\n",
    "df = pd.DataFrame(columns=header)\n",
    "for fn in fns:\n",
    "    iter_csv = pd.read_csv(fn, names=header, iterator=True, chunksize=1000)\n",
    "    df1 = pd.concat([chunk[chunk['PRIORITY'] > cutvalue] for chunk in iter_csv])\n",
    "    df = pd.concat([df,df1], ignore_index=True) # need to recount the index, or we have duplicates\n",
    "    print('done{}'.format(fn))\n",
    "    "
   ]
  },
  {
   "cell_type": "code",
   "execution_count": 226,
   "metadata": {
    "collapsed": false
   },
   "outputs": [
    {
     "name": "stdout",
     "output_type": "stream",
     "text": [
      "0.0 27.6923076923 30770\n",
      "27.6923076923 55.3846153846 61540\n",
      "55.3846153846 83.0769230769 92310\n",
      "83.0769230769 110.769230769 123080\n",
      "110.769230769 138.461538462 153850\n",
      "138.461538462 166.153846154 184620\n",
      "166.153846154 193.846153846 215390\n",
      "193.846153846 221.538461538 246160\n",
      "221.538461538 249.230769231 276930\n",
      "249.230769231 276.923076923 307700\n",
      "276.923076923 304.615384615 338470\n",
      "304.615384615 332.307692308 369240\n",
      "332.307692308 360.0 400010\n"
     ]
    }
   ],
   "source": [
    "# now cut the sky into 26 segments and select top (400,000 / 26) from each\n",
    "# the cuts are in ecliptic longitute\n",
    "selectnum = int(np.round(400000/26., ))\n",
    "df.loc[:,'SELECTED'] = np.zeros(df.shape[0], dtype='bool')\n",
    "\n",
    "eloop = np.linspace(0,360,14)\n",
    "espace = np.diff(eloop)[0] # get space in degrees\n",
    "for elon in eloop[:-1]:\n",
    "    # southern hemisphere\n",
    "    ms = (df.ECLONG >= elon) & (df.ECLONG < elon+espace) & (df.ECLAT <= -6)\n",
    "    selectthese = df.loc[ms].sort_values('PRIORITY').iloc[-selectnum:].index\n",
    "    df.loc[df.index.isin(selectthese), 'SELECTED'] = True\n",
    "    \n",
    "#     # northern hemisphere\n",
    "    mn = (df.ECLONG >= elon) & (df.ECLONG < elon+espace) & (df.ECLAT >= 6)\n",
    "    selectthese = df.loc[mn].sort_values('PRIORITY').iloc[-selectnum:].index\n",
    "    df.loc[df.index.isin(selectthese), 'SELECTED'] = True\n",
    "    \n",
    "#     print(df.loc[df.SELECTED == True].shape[0])\n",
    "    print(elon,elon+espace,df.loc[df.SELECTED == True].shape[0])\n",
    "    \n"
   ]
  },
  {
   "cell_type": "code",
   "execution_count": 228,
   "metadata": {
    "collapsed": false
   },
   "outputs": [],
   "source": [
    "selected = df[df.SELECTED == True]"
   ]
  },
  {
   "cell_type": "code",
   "execution_count": 235,
   "metadata": {
    "collapsed": false
   },
   "outputs": [],
   "source": [
    "selected.to_csv('selected.csv.gzip',compression='gzip')"
   ]
  },
  {
   "cell_type": "code",
   "execution_count": null,
   "metadata": {
    "collapsed": false
   },
   "outputs": [],
   "source": []
  },
  {
   "cell_type": "code",
   "execution_count": null,
   "metadata": {
    "collapsed": false
   },
   "outputs": [],
   "source": []
  },
  {
   "cell_type": "code",
   "execution_count": null,
   "metadata": {
    "collapsed": false
   },
   "outputs": [],
   "source": []
  },
  {
   "cell_type": "code",
   "execution_count": null,
   "metadata": {
    "collapsed": true
   },
   "outputs": [],
   "source": []
  }
 ],
 "metadata": {
  "kernelspec": {
   "display_name": "Python 2",
   "language": "python",
   "name": "python2"
  },
  "language_info": {
   "codemirror_mode": {
    "name": "ipython",
    "version": 2
   },
   "file_extension": ".py",
   "mimetype": "text/x-python",
   "name": "python",
   "nbconvert_exporter": "python",
   "pygments_lexer": "ipython2",
   "version": "2.7.11"
  }
 },
 "nbformat": 4,
 "nbformat_minor": 2
}
