{
 "cells": [
  {
   "cell_type": "code",
   "execution_count": 1,
   "metadata": {
    "collapsed": true
   },
   "outputs": [],
   "source": [
    "import numpy as np\n",
    "import pandas as pd\n",
    "import astroquery\n",
    "import matplotlib.pyplot as plt\n",
    "import glob\n",
    "\n",
    "import matplotlib\n",
    "\n",
    "%matplotlib inline"
   ]
  },
  {
   "cell_type": "code",
   "execution_count": null,
   "metadata": {
    "collapsed": false
   },
   "outputs": [],
   "source": [
    "fn = '/Users/tom/Dropbox/TIC5/ctl.csv'\n",
    "\n",
    "header = [\n",
    "    'RA','DEC',\n",
    "    'ECLONG','ECLAT', 'Ks',\n",
    "    'TESSMAG','TEFF','RADIUS','MASS','CONTRATIO','PRIORITY',\n",
    "    ]\n",
    "usecols = [13, 14, 60, 64, 87, 70, 72, 84, 26, 27, 46]\n",
    "df = pd.read_csv(fn, names=header, usecols=usecols)"
   ]
  },
  {
   "cell_type": "code",
   "execution_count": 16,
   "metadata": {
    "collapsed": false
   },
   "outputs": [
    {
     "name": "stdout",
     "output_type": "stream",
     "text": [
      "0.0 27.6923076923 30770\n",
      "27.6923076923 55.3846153846 61540\n",
      "55.3846153846 83.0769230769 92310\n",
      "83.0769230769 110.769230769 123080\n",
      "110.769230769 138.461538462 153850\n",
      "138.461538462 166.153846154 184620\n",
      "166.153846154 193.846153846 215390\n",
      "193.846153846 221.538461538 246160\n",
      "221.538461538 249.230769231 276930\n",
      "249.230769231 276.923076923 307700\n",
      "276.923076923 304.615384615 338470\n",
      "304.615384615 332.307692308 369240\n",
      "332.307692308 360.0 400010\n"
     ]
    }
   ],
   "source": [
    "selectnum = int(np.round(400000/26., ))\n",
    "df.loc[:,'SELECTED'] = np.zeros(df.shape[0], dtype='bool')\n",
    "\n",
    "eloop = np.linspace(0,360,14)\n",
    "espace = np.diff(eloop)[0] # get space in degrees\n",
    "for elon in eloop[:-1]:\n",
    "    # southern hemisphere\n",
    "    ms = (df.ECLONG >= elon) & (df.ECLONG < elon+espace) & (df.ECLAT <= -6)\n",
    "    selectthese = df.loc[ms].sort_values('PRIORITY').iloc[-selectnum:].index\n",
    "    df.loc[df.index.isin(selectthese), 'SELECTED'] = True\n",
    "    \n",
    "#     # northern hemisphere\n",
    "    mn = (df.ECLONG >= elon) & (df.ECLONG < elon+espace) & (df.ECLAT >= 6)\n",
    "    selectthese = df.loc[mn].sort_values('PRIORITY').iloc[-selectnum:].index\n",
    "    df.loc[df.index.isin(selectthese), 'SELECTED'] = True\n",
    "    \n",
    "#     print(df.loc[df.SELECTED == True].shape[0])\n",
    "    print(elon,elon+espace,df.loc[df.SELECTED == True].shape[0])"
   ]
  },
  {
   "cell_type": "code",
   "execution_count": 17,
   "metadata": {
    "collapsed": true
   },
   "outputs": [],
   "source": [
    "selected = df[df.SELECTED == True]"
   ]
  },
  {
   "cell_type": "code",
   "execution_count": 18,
   "metadata": {
    "collapsed": true
   },
   "outputs": [],
   "source": [
    "selected.to_csv('../data/selected5.csv.bz2',compression='bz2')"
   ]
  },
  {
   "cell_type": "markdown",
   "metadata": {},
   "source": [
    "# ok let's now try to select things kinda realistically"
   ]
  },
  {
   "cell_type": "code",
   "execution_count": null,
   "metadata": {
    "collapsed": false
   },
   "outputs": [],
   "source": [
    "fn = '/Users/tom/Dropbox/TIC5/ctl.csv'\n",
    "\n",
    "header = [\n",
    "    'RA','DEC',\n",
    "    'ECLONG','ECLAT', 'Ks',\n",
    "    'TESSMAG','TEFF','RADIUS','MASS','CONTRATIO','PRIORITY',\n",
    "    ]\n",
    "usecols = [13, 14, 60, 64, 87, 70, 72, 84, 26, 27, 46]\n",
    "df = pd.read_csv(fn, names=header, usecols=usecols)"
   ]
  },
  {
   "cell_type": "code",
   "execution_count": null,
   "metadata": {
    "collapsed": false
   },
   "outputs": [],
   "source": [
    "# have 7000 targets a each of the poles\n",
    "\n",
    "selectnum = 8000\n",
    "selectpoles = 6000\n",
    "df.loc[:,'SELECTED'] = np.zeros(df.shape[0], dtype='bool')\n",
    "\n",
    "eloop = np.linspace(0,360,14)\n",
    "espace = np.diff(eloop)[0] # get space in degrees\n",
    "\n",
    "#poles first\n",
    "mn = (df.ECLAT >= 78)\n",
    "selectthese = df.loc[mn].sort_values('PRIORITY').iloc[-selectpoles:].index\n",
    "df.loc[df.index.isin(selectthese), 'SELECTED'] = True\n",
    "\n",
    "mn = (df.ECLAT <= -78)\n",
    "selectthese = df.loc[mn].sort_values('PRIORITY').iloc[-selectpoles:].index\n",
    "df.loc[df.index.isin(selectthese), 'SELECTED'] = True\n",
    "\n",
    "for elon in eloop[:-1]:\n",
    "    # southern hemisphere\n",
    "    ms = (df.ECLONG >= elon) & (df.ECLONG < elon+espace) & (df.ECLAT <= -6) & (df.ECLAT > -78)\n",
    "    selectthese = df.loc[ms].sort_values('PRIORITY').iloc[-selectnum:].index\n",
    "    df.loc[df.index.isin(selectthese), 'SELECTED'] = True\n",
    "    \n",
    "#     # northern hemisphere\n",
    "    mn = (df.ECLONG >= elon) & (df.ECLONG < elon+espace) & (df.ECLAT >= 6) & (df.ECLAT < 78)\n",
    "    selectthese = df.loc[mn].sort_values('PRIORITY').iloc[-selectnum:].index\n",
    "    df.loc[df.index.isin(selectthese), 'SELECTED'] = True\n",
    "    \n",
    "    print(elon,elon+espace,df.loc[df.SELECTED == True].shape[0])"
   ]
  },
  {
   "cell_type": "code",
   "execution_count": null,
   "metadata": {
    "collapsed": true
   },
   "outputs": [],
   "source": [
    "selected = df[df.SELECTED == True]"
   ]
  },
  {
   "cell_type": "code",
   "execution_count": 6,
   "metadata": {
    "collapsed": true
   },
   "outputs": [],
   "source": [
    "selected.to_csv('../data/selectedreal5.csv.bz2',compression='bz2')"
   ]
  },
  {
   "cell_type": "code",
   "execution_count": 11,
   "metadata": {
    "collapsed": false
   },
   "outputs": [],
   "source": [
    "from astropy.coordinates import SkyCoord\n",
    "from astropy import units as u"
   ]
  },
  {
   "cell_type": "code",
   "execution_count": 13,
   "metadata": {
    "collapsed": false
   },
   "outputs": [],
   "source": [
    "gc = SkyCoord(ra=150*u.degree, dec=45*u.degree, frame='icrs')"
   ]
  },
  {
   "cell_type": "code",
   "execution_count": 20,
   "metadata": {
    "collapsed": false
   },
   "outputs": [
    {
     "data": {
      "text/plain": [
       "135.31169020376774"
      ]
     },
     "execution_count": 20,
     "metadata": {},
     "output_type": "execute_result"
    }
   ],
   "source": [
    "gc.barycentrictrueecliptic.lon.value"
   ]
  },
  {
   "cell_type": "code",
   "execution_count": null,
   "metadata": {
    "collapsed": false
   },
   "outputs": [],
   "source": []
  },
  {
   "cell_type": "code",
   "execution_count": null,
   "metadata": {
    "collapsed": true
   },
   "outputs": [],
   "source": []
  }
 ],
 "metadata": {
  "kernelspec": {
   "display_name": "Python 3",
   "language": "python",
   "name": "python3"
  },
  "language_info": {
   "codemirror_mode": {
    "name": "ipython",
    "version": 3
   },
   "file_extension": ".py",
   "mimetype": "text/x-python",
   "name": "python",
   "nbconvert_exporter": "python",
   "pygments_lexer": "ipython3",
   "version": "3.6.0"
  }
 },
 "nbformat": 4,
 "nbformat_minor": 2
}
