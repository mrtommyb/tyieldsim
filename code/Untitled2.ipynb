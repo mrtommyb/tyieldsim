{
 "cells": [
  {
   "cell_type": "code",
   "execution_count": 72,
   "metadata": {
    "collapsed": true
   },
   "outputs": [],
   "source": [
    "import ktransit\n",
    "import numpy as np\n",
    "import matplotlib.pyplot as plt\n",
    "from tqdm import tqdm\n",
    "from ktransit import FitTransit\n",
    "import tqdm\n",
    "%matplotlib inline"
   ]
  },
  {
   "cell_type": "code",
   "execution_count": 73,
   "metadata": {
    "collapsed": false
   },
   "outputs": [],
   "source": [
    "M1 = ktransit.LCModel()\n",
    "M1.add_star(\n",
    "        rho=1.5, # mean stellar density in cgs units\n",
    "        ld1=0.2, # ld1--4 are limb darkening coefficients \n",
    "        ld2=0.4, # if only ld1 and ld2 are non-zero then a quadratic limb darkening law is used\n",
    "        ld3=0.0, # if all four parameters are non-zero we use non-linear flavour limb darkening\n",
    "        ld4=0.0, \n",
    "        dil=0.0, # a dilution factor: 0.0 -> transit not diluted, 0.5 -> transit 50% diluted\n",
    "        zpt=0.0  # a photometric zeropoint, incase the normalisation was wonky\n",
    "        )\n",
    "M1.add_planet(\n",
    "        T0=1.0,     # a transit mid-time  \n",
    "        period=1.0, # an orbital period in days\n",
    "        impact=0.1, # an impact parameter\n",
    "        rprs=0.1,   # planet stellar radius ratio  \n",
    "        ecosw=0.0,  # eccentricity vector\n",
    "        esinw=0.0,\n",
    "        occ=0.0)    # a secondary eclipse depth in ppm\n",
    "\n",
    "M1.add_planet() # you can add as many planets as you like (up to 10)\n",
    "\n",
    "M1.add_data(\n",
    "        time=np.arange(0,10,0.0188),                                 # timestamps to evaluate the model on\n",
    "        itime=np.zeros_like(np.arange(0,10,0.0188))+0.0188 )      # integration time of each timestamp\n",
    "\n",
    "tmod1 = M1.transitmodel # the out of transit data will be 0.0 unless you specify zpt\n"
   ]
  },
  {
   "cell_type": "code",
   "execution_count": 74,
   "metadata": {
    "collapsed": true
   },
   "outputs": [],
   "source": [
    "M2 = ktransit.LCModel()\n",
    "M2.add_star(\n",
    "        rho=1.5, # mean stellar density in cgs units\n",
    "        ld1=0.2, # ld1--4 are limb darkening coefficients \n",
    "        ld2=0.4, # if only ld1 and ld2 are non-zero then a quadratic limb darkening law is used\n",
    "        ld3=0.0, # if all four parameters are non-zero we use non-linear flavour limb darkening\n",
    "        ld4=0.0, \n",
    "        dil=0.0, # a dilution factor: 0.0 -> transit not diluted, 0.5 -> transit 50% diluted\n",
    "        zpt=0.0  # a photometric zeropoint, incase the normalisation was wonky\n",
    "        )\n",
    "M2.add_planet(\n",
    "        T0=1.0,     # a transit mid-time  \n",
    "        period=1.0, # an orbital period in days\n",
    "        impact=0.1, # an impact parameter\n",
    "        rprs=0.1,   # planet stellar radius ratio  \n",
    "        ecosw=0.0,  # eccentricity vector\n",
    "        esinw=0.0,\n",
    "        occ=0.0)    # a secondary eclipse depth in ppm\n",
    "\n",
    "M2.add_planet() # you can add as many planets as you like (up to 10)\n",
    "\n",
    "M2.add_data(\n",
    "        time=np.arange(0,10,0.00138888888),                                 # timestamps to evaluate the model on\n",
    "        itime=np.zeros_like(np.arange(0,10,0.00138888888))+0.00138888888 )      # integration time of each timestamp\n",
    "\n",
    "tmod2 = M2.transitmodel # the out of transit data will be 0.0 unless you specify zpt\n"
   ]
  },
  {
   "cell_type": "code",
   "execution_count": 94,
   "metadata": {
    "collapsed": false
   },
   "outputs": [
    {
     "name": "stderr",
     "output_type": "stream",
     "text": [
      "100%|██████████| 500/500 [01:40<00:00,  5.18it/s]\n"
     ]
    }
   ],
   "source": [
    "# do tmod1\n",
    "tmod1_rprs = np.array([])\n",
    "for i in tqdm.tqdm(range(500)):\n",
    "    noise1 = np.random.normal(0,0.01,size=np.shape(tmod1)[0])\n",
    "    flux = tmod1 + noise1\n",
    "    ferr = np.zeros_like(tmod1) + 0.01\n",
    "\n",
    "    fitT = FitTransit()\n",
    "    fitT.add_guess_star(rho=1.5)    \n",
    "    fitT.add_guess_planet(\n",
    "            period=1.0, impact=0.1, \n",
    "            T0=1.0, rprs=0.1)\n",
    "    fitT.add_data(time=M1.time, itime=M1.itime, flux=flux, ferr=ferr)\n",
    "\n",
    "    vary_star = ['rho', 'zpt']      # free stellar parameters\n",
    "    vary_planet = (['period',       # free planetary parameters\n",
    "            'T0', #'impact', \n",
    "            'rprs'])                # free planet parameters are the same for every planet you model\n",
    "\n",
    "    fitT.free_parameters(vary_star, vary_planet)\n",
    "    fitT.do_fit()                   # run the fitting\n",
    "\n",
    "#     fitT.print_results()            # print some results\n",
    "    tmod1_rprs = np.r_[tmod1_rprs, fitT.fitresultplanets['pnum0']['rprs']]\n",
    "\n",
    "\n",
    "\n"
   ]
  },
  {
   "cell_type": "code",
   "execution_count": 95,
   "metadata": {
    "collapsed": false
   },
   "outputs": [
    {
     "name": "stderr",
     "output_type": "stream",
     "text": [
      "100%|██████████| 500/500 [1:32:48<00:00,  1.52s/it]      \n"
     ]
    }
   ],
   "source": [
    "# do tmod2\n",
    "tmod2_rprs = np.array([])\n",
    "for i in tqdm.tqdm(range(500)):\n",
    "    noise2 = np.random.normal(0,0.01,size=np.shape(tmod2)[0])\n",
    "    flux = tmod2 + noise2\n",
    "    ferr = np.zeros_like(tmod2) + 0.01\n",
    "\n",
    "    fitT = FitTransit()\n",
    "    fitT.add_guess_star(rho=1.5)    \n",
    "    fitT.add_guess_planet(\n",
    "            period=1.0, impact=0.1, \n",
    "            T0=1.0, rprs=0.1)\n",
    "    fitT.add_data(time=M2.time, itime=M2.itime, flux=flux, ferr=ferr)\n",
    "\n",
    "    vary_star = ['rho', 'zpt']      # free stellar parameters\n",
    "    vary_planet = (['period',       # free planetary parameters\n",
    "            'T0', #'impact', \n",
    "            'rprs'])                # free planet parameters are the same for every planet you model\n",
    "\n",
    "    fitT.free_parameters(vary_star, vary_planet)\n",
    "    fitT.do_fit()                   # run the fitting\n",
    "\n",
    "#     fitT.print_results()            # print some results\n",
    "    tmod2_rprs = np.r_[tmod2_rprs, fitT.fitresultplanets['pnum0']['rprs']]\n",
    "\n",
    "\n",
    "\n"
   ]
  },
  {
   "cell_type": "code",
   "execution_count": 89,
   "metadata": {
    "collapsed": false
   },
   "outputs": [
    {
     "data": {
      "text/plain": [
       "(array([  0.,   0.,   0.,   0.,   0.,   0.,   0.,   0.,  11.,  89.,   0.,\n",
       "          0.,   0.,   0.,   0.,   0.,   0.,   0.,   0.,   0.,   0.,   0.,\n",
       "          0.,   0.]),\n",
       " array([ 0.05,  0.06,  0.07,  0.08,  0.09,  0.1 ,  0.11,  0.12,  0.13,\n",
       "         0.14,  0.15,  0.16,  0.17,  0.18,  0.19,  0.2 ,  0.21,  0.22,\n",
       "         0.23,  0.24,  0.25,  0.26,  0.27,  0.28,  0.29]),\n",
       " <a list of 24 Patch objects>)"
      ]
     },
     "execution_count": 89,
     "metadata": {},
     "output_type": "execute_result"
    },
    {
     "data": {
      "image/png": "[encoded data removed]",
      "text/plain": [
       "<matplotlib.figure.Figure at 0x12728bc88>"
      ]
     },
     "metadata": {},
     "output_type": "display_data"
    }
   ],
   "source": [
    "\n",
    "plt.hist(tmod1_rprs, np.arange(0.05,0.3,0.01), alpha=0.5)\n",
    "plt.hist(tmod2_rprs, np.arange(0.05,0.3,0.01), alpha=0.5)"
   ]
  },
  {
   "cell_type": "code",
   "execution_count": 91,
   "metadata": {
    "collapsed": false
   },
   "outputs": [
    {
     "data": {
      "text/plain": [
       "array([ 0.14184097,  0.14256004,  0.14170077,  0.14113109,  0.14348296,\n",
       "        0.14308532,  0.13956334,  0.14220058,  0.13952509,  0.14304962,\n",
       "        0.14455591,  0.1439542 ,  0.14336854,  0.14194566,  0.13931181,\n",
       "        0.13947495,  0.14121704,  0.14202582,  0.13979496,  0.14061202,\n",
       "        0.14288942,  0.14205161,  0.14047327,  0.14025844,  0.14004196,\n",
       "        0.14128868,  0.14444705,  0.14097759,  0.14297619,  0.14200862,\n",
       "        0.14091885,  0.1439879 ,  0.14054063,  0.14260461,  0.14324676,\n",
       "        0.1419955 ,  0.14202051,  0.14227647,  0.14129163,  0.14265768,\n",
       "        0.14134572,  0.14597502,  0.14166562,  0.14529031,  0.14408095,\n",
       "        0.14137663,  0.1411255 ,  0.14322476,  0.13941164,  0.14307697,\n",
       "        0.1404312 ,  0.14030794,  0.14271004,  0.140607  ,  0.14061454,\n",
       "        0.14119295,  0.1426872 ,  0.14078491,  0.13937793,  0.14194856,\n",
       "        0.14066692,  0.140532  ,  0.14361276,  0.14057207,  0.14120987,\n",
       "        0.13969543,  0.14103598,  0.14245732,  0.14507589,  0.14239909,\n",
       "        0.14009606,  0.14167301,  0.14631288,  0.14315194,  0.14131462,\n",
       "        0.14101154,  0.14195641,  0.1391992 ,  0.14069744,  0.14747017,\n",
       "        0.14199091,  0.14159258,  0.1435823 ,  0.14259833,  0.14184366,\n",
       "        0.13892824,  0.14104685,  0.14088137,  0.14194722,  0.14086387,\n",
       "        0.14271984,  0.14421978,  0.14116133,  0.14158819,  0.14276255,\n",
       "        0.14093746,  0.14031768,  0.14272564,  0.14264173,  0.13702723])"
      ]
     },
     "execution_count": 91,
     "metadata": {},
     "output_type": "execute_result"
    }
   ],
   "source": [
    "tmod2_rprs"
   ]
  },
  {
   "cell_type": "code",
   "execution_count": 93,
   "metadata": {
    "collapsed": false
   },
   "outputs": [
    {
     "name": "stdout",
     "output_type": "stream",
     "text": [
      "Best-fitting stellar parameters\n",
      "rho: 1.4862897975245501\n",
      "zpt: 3.134776250313567e-05\n",
      "\n",
      "Best-fitting planet parameters for planet 0\n",
      "period: 0.9999182308463961\n",
      "T0: 1.0008168365012158\n",
      "impact: 0.11822533694554958\n",
      "rprs: 0.13702723394457914\n",
      "\n"
     ]
    }
   ],
   "source": [
    "fitT.print_results()"
   ]
  },
  {
   "cell_type": "code",
   "execution_count": null,
   "metadata": {
    "collapsed": true
   },
   "outputs": [],
   "source": []
  }
 ],
 "metadata": {
  "kernelspec": {
   "display_name": "Python 3",
   "language": "python",
   "name": "python3"
  },
  "language_info": {
   "codemirror_mode": {
    "name": "ipython",
    "version": 3
   },
   "file_extension": ".py",
   "mimetype": "text/x-python",
   "name": "python",
   "nbconvert_exporter": "python",
   "pygments_lexer": "ipython3",
   "version": "3.6.0"
  }
 },
 "nbformat": 4,
 "nbformat_minor": 2
}
